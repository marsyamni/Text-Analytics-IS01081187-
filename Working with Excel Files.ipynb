{
 "cells": [
  {
   "cell_type": "code",
   "execution_count": 1,
   "metadata": {},
   "outputs": [
    {
     "name": "stdout",
     "output_type": "stream",
     "text": [
      "Comments extracted and saved to comments.txt\n"
     ]
    }
   ],
   "source": [
    "import pandas as pd\n",
    "# Define the Excel file name\n",
    "excel_file = 'sample_data.xlsx'\n",
    "# Define the output text file name\n",
    "output_file = 'comments.txt'\n",
    "# Read the Excel file\n",
    "df = pd.read_excel(excel_file)\n",
    "# Extract the 'comments' column\n",
    "comments = df['comments']\n",
    "# Open the output text file for writing\n",
    "with open(output_file, 'w') as txtfile:\n",
    " # Write each comment to the text file\n",
    " for comment in comments:\n",
    "   txtfile.write(str(comment) + '\\n')\n",
    "print(\"Comments extracted and saved to\", output_file)\n"
   ]
  }
 ],
 "metadata": {
  "kernelspec": {
   "display_name": "base",
   "language": "python",
   "name": "python3"
  },
  "language_info": {
   "codemirror_mode": {
    "name": "ipython",
    "version": 3
   },
   "file_extension": ".py",
   "mimetype": "text/x-python",
   "name": "python",
   "nbconvert_exporter": "python",
   "pygments_lexer": "ipython3",
   "version": "3.11.5"
  }
 },
 "nbformat": 4,
 "nbformat_minor": 2
}
