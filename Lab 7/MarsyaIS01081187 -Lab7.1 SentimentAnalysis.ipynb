{
 "cells": [
  {
   "cell_type": "code",
   "execution_count": 6,
   "metadata": {},
   "outputs": [],
   "source": [
    "from textblob import TextBlob\n",
    "from vaderSentiment.vaderSentiment import SentimentIntensityAnalyzer\n",
    "from tabulate import tabulate"
   ]
  },
  {
   "cell_type": "markdown",
   "metadata": {},
   "source": [
    "Lexicon-based Approach"
   ]
  },
  {
   "cell_type": "code",
   "execution_count": 7,
   "metadata": {},
   "outputs": [],
   "source": [
    "from textblob import TextBlob\n",
    "from vaderSentiment.vaderSentiment import SentimentIntensityAnalyzer\n",
    "from tabulate import tabulate"
   ]
  },
  {
   "cell_type": "code",
   "execution_count": 8,
   "metadata": {},
   "outputs": [],
   "source": [
    "data = [\n",
    "    (\"I love this product, it's amazing!\", 'positive'),\n",
    "    (\"This product is terrible, I hate it.\", 'negative'),\n",
    "    (\"It's okay, not bad but not great either.\", 'neutral'),\n",
    "    (\"Best product ever, highly recommended!\", 'positive'),\n",
    "    (\"I'm really disappointed with the quality.\", 'negative'),\n",
    "    (\"So-so product, nothing special about it.\", 'neutral'),\n",
    "    (\"The customer service was excellent!\", 'positive'),\n",
    "    (\"I wasted my money on this useless product.\", 'negative'),\n",
    "    (\"It's not the worst, but certainly not the best.\", 'neutral'),\n",
    "    (\"I can't live without this product, it's a lifesaver!\", 'positive'),\n",
    "    (\"The product arrived damaged and unusable.\", 'negative'),\n",
    "    (\"It's average, neither good nor bad.\", 'neutral'),\n",
    "    (\"Highly disappointed with the purchase.\", 'negative'),\n",
    "    (\"The product exceeded my expectations.\", 'positive'),\n",
    "    (\"It's just okay, nothing extraordinary.\", 'neutral'),\n",
    "    (\"This product is excellent, it exceeded all my expectations!\", 'positive'),\n",
    "    (\"I regret purchasing this product, it's a waste of money.\", 'negative'),\n",
    "    (\"It's neither good nor bad, just average.\", 'neutral'),\n",
    "    (\"Outstanding customer service, highly recommended!\", 'positive'),\n",
    "    (\"I'm very disappointed with the quality of this item.\", 'negative'),\n",
    "    (\"It's not the best product, but it gets the job done.\", 'neutral'),\n",
    "    (\"This product is a game-changer, I can't imagine life without it!\", 'positive'),\n",
    "    (\"I received a defective product, very dissatisfied.\", 'negative'),\n",
    "    (\"It's neither great nor terrible, just okay.\", 'neutral'),\n",
    "    (\"Fantastic product, I would buy it again in a heartbeat!\", 'positive'),\n",
    "    (\"Avoid this product at all costs, complete waste of money.\", 'negative'),\n",
    "    (\"It's decent, but nothing extraordinary.\", 'neutral'),\n",
    "    (\"Impressive quality, exceeded my expectations!\", 'positive'),\n",
    "    (\"I'm very unhappy with this purchase, total disappointment.\", 'negative'),\n",
    "    (\"It's neither amazing nor terrible, somewhere in between.\", 'neutral')\n",
    "]\n"
   ]
  },
  {
   "cell_type": "code",
   "execution_count": 9,
   "metadata": {},
   "outputs": [],
   "source": [
    "table_data = [[\"Text\", \"Actual Label\", \"TextBlob Polarity\", \"TextBlob Sentiment\", \"VADER Compound\", \"VADER Sentiment\"]]"
   ]
  },
  {
   "cell_type": "code",
   "execution_count": 10,
   "metadata": {},
   "outputs": [],
   "source": [
    "for text, actual_label in data:\n",
    "    # TextBlob\n",
    "    blob = TextBlob(text)\n",
    "    tb_polarity = blob.sentiment.polarity\n",
    "    \n",
    "    # Determine label based on polarity score from TextBlob\n",
    "    if tb_polarity > 0:\n",
    "        tb_label = 'positive'\n",
    "    elif tb_polarity < 0:\n",
    "        tb_label = 'negative'\n",
    "    else:\n",
    "        tb_label = 'neutral'\n",
    "\n",
    "    # VADER\n",
    "    analyzer = SentimentIntensityAnalyzer()\n",
    "    vs = analyzer.polarity_scores(text)\n",
    "    vader_compound = vs['compound']\n",
    "\n",
    "    # Determine label based on compound score from VADER\n",
    "    if vader_compound > 0.05:\n",
    "        vader_label = 'positive'\n",
    "    elif vader_compound < -0.05:\n",
    "        vader_label = 'negative'\n",
    "    else:\n",
    "        vader_label = 'neutral'\n",
    "\n",
    "    table_data.append([text, actual_label, tb_polarity, tb_label, vader_compound, vader_label])\n"
   ]
  },
  {
   "cell_type": "code",
   "execution_count": 11,
   "metadata": {},
   "outputs": [
    {
     "name": "stdout",
     "output_type": "stream",
     "text": [
      "Text                                                              Actual Label      TextBlob Polarity  TextBlob Sentiment      VADER Compound  VADER Sentiment\n",
      "I love this product, it's amazing!                                positive                  0.625      positive                        0.8516  positive\n",
      "This product is terrible, I hate it.                              negative                 -0.9        negative                       -0.7783  negative\n",
      "It's okay, not bad but not great either.                          neutral                   0.15       positive                       -0.4707  negative\n",
      "Best product ever, highly recommended!                            positive                  0.6        positive                        0.7639  positive\n",
      "I'm really disappointed with the quality.                         negative                 -0.75       negative                       -0.5256  negative\n",
      "So-so product, nothing special about it.                          neutral                   0.357143   positive                       -0.3089  negative\n",
      "The customer service was excellent!                               positive                  1          positive                        0.6114  positive\n",
      "I wasted my money on this useless product.                        negative                 -0.35       negative                       -0.7543  negative\n",
      "It's not the worst, but certainly not the best.                   neutral                  -0.0357143  negative                       -0.0785  negative\n",
      "I can't live without this product, it's a lifesaver!              positive                  0.170455   positive                        0.6239  positive\n",
      "The product arrived damaged and unusable.                         negative                  0          neutral                        -0.4404  negative\n",
      "It's average, neither good nor bad.                               neutral                  -0.05       negative                       -0.5824  negative\n",
      "Highly disappointed with the purchase.                            negative                 -0.75       negative                       -0.5256  negative\n",
      "The product exceeded my expectations.                             positive                  0          neutral                         0       neutral\n",
      "It's just okay, nothing extraordinary.                            neutral                   0.416667   positive                        0.2263  positive\n",
      "This product is excellent, it exceeded all my expectations!       positive                  1          positive                        0.6114  positive\n",
      "I regret purchasing this product, it's a waste of money.          negative                 -0.2        negative                       -0.6808  negative\n",
      "It's neither good nor bad, just average.                          neutral                  -0.05       negative                       -0.5824  negative\n",
      "Outstanding customer service, highly recommended!                 positive                  0.35       positive                        0.7495  positive\n",
      "I'm very disappointed with the quality of this item.              negative                 -0.975      negative                       -0.5256  negative\n",
      "It's not the best product, but it gets the job done.              neutral                   1          positive                       -0.2924  negative\n",
      "This product is a game-changer, I can't imagine life without it!  positive                  0          neutral                         0       neutral\n",
      "I received a defective product, very dissatisfied.                negative                  0.2        positive                       -0.6997  negative\n",
      "It's neither great nor terrible, just okay.                       neutral                   0.1        positive                       -0.7278  negative\n",
      "Fantastic product, I would buy it again in a heartbeat!           positive                  0.5        positive                        0.5983  positive\n",
      "Avoid this product at all costs, complete waste of money.         negative                 -0.05       negative                       -0.6124  negative\n",
      "It's decent, but nothing extraordinary.                           neutral                   0.25       positive                        0       neutral\n",
      "Impressive quality, exceeded my expectations!                     positive                  1          positive                        0.5562  positive\n",
      "I'm very unhappy with this purchase, total disappointment.        negative                 -0.46       negative                       -0.7708  negative\n",
      "It's neither amazing nor terrible, somewhere in between.          neutral                  -0.2        negative                       -0.6395  negative\n"
     ]
    }
   ],
   "source": [
    "print(tabulate(table_data, headers=\"firstrow\", tablefmt=\"plain\"))\n",
    "\n"
   ]
  },
  {
   "cell_type": "code",
   "execution_count": 12,
   "metadata": {},
   "outputs": [
    {
     "name": "stdout",
     "output_type": "stream",
     "text": [
      "Text                                                              Actual Label      TextBlob Polarity  TextBlob Sentiment      VADER Compound  VADER Sentiment\n",
      "I love this product, it's amazing!                                positive                  0.625      positive                        0.8516  positive\n",
      "This product is terrible, I hate it.                              negative                 -0.9        negative                       -0.7783  negative\n",
      "It's okay, not bad but not great either.                          neutral                   0.15       positive                       -0.4707  negative\n",
      "Best product ever, highly recommended!                            positive                  0.6        positive                        0.7639  positive\n",
      "I'm really disappointed with the quality.                         negative                 -0.75       negative                       -0.5256  negative\n",
      "So-so product, nothing special about it.                          neutral                   0.357143   positive                       -0.3089  negative\n",
      "The customer service was excellent!                               positive                  1          positive                        0.6114  positive\n",
      "I wasted my money on this useless product.                        negative                 -0.35       negative                       -0.7543  negative\n",
      "It's not the worst, but certainly not the best.                   neutral                  -0.0357143  negative                       -0.0785  negative\n",
      "I can't live without this product, it's a lifesaver!              positive                  0.170455   positive                        0.6239  positive\n",
      "The product arrived damaged and unusable.                         negative                  0          neutral                        -0.4404  negative\n",
      "It's average, neither good nor bad.                               neutral                  -0.05       negative                       -0.5824  negative\n",
      "Highly disappointed with the purchase.                            negative                 -0.75       negative                       -0.5256  negative\n",
      "The product exceeded my expectations.                             positive                  0          neutral                         0       neutral\n",
      "It's just okay, nothing extraordinary.                            neutral                   0.416667   positive                        0.2263  positive\n",
      "This product is excellent, it exceeded all my expectations!       positive                  1          positive                        0.6114  positive\n",
      "I regret purchasing this product, it's a waste of money.          negative                 -0.2        negative                       -0.6808  negative\n",
      "It's neither good nor bad, just average.                          neutral                  -0.05       negative                       -0.5824  negative\n",
      "Outstanding customer service, highly recommended!                 positive                  0.35       positive                        0.7495  positive\n",
      "I'm very disappointed with the quality of this item.              negative                 -0.975      negative                       -0.5256  negative\n",
      "It's not the best product, but it gets the job done.              neutral                   1          positive                       -0.2924  negative\n",
      "This product is a game-changer, I can't imagine life without it!  positive                  0          neutral                         0       neutral\n",
      "I received a defective product, very dissatisfied.                negative                  0.2        positive                       -0.6997  negative\n",
      "It's neither great nor terrible, just okay.                       neutral                   0.1        positive                       -0.7278  negative\n",
      "Fantastic product, I would buy it again in a heartbeat!           positive                  0.5        positive                        0.5983  positive\n",
      "Avoid this product at all costs, complete waste of money.         negative                 -0.05       negative                       -0.6124  negative\n",
      "It's decent, but nothing extraordinary.                           neutral                   0.25       positive                        0       neutral\n",
      "Impressive quality, exceeded my expectations!                     positive                  1          positive                        0.5562  positive\n",
      "I'm very unhappy with this purchase, total disappointment.        negative                 -0.46       negative                       -0.7708  negative\n",
      "It's neither amazing nor terrible, somewhere in between.          neutral                  -0.2        negative                       -0.6395  negative\n",
      "\n",
      "Classification Report for TextBlob:\n",
      "              precision    recall  f1-score   support\n",
      "\n",
      "    negative       0.67      0.80      0.73        10\n",
      "     neutral       0.00      0.00      0.00        10\n",
      "    positive       0.53      0.80      0.64        10\n",
      "\n",
      "    accuracy                           0.53        30\n",
      "   macro avg       0.40      0.53      0.46        30\n",
      "weighted avg       0.40      0.53      0.46        30\n",
      "\n",
      "\n",
      "Classification Report for VADER:\n",
      "              precision    recall  f1-score   support\n",
      "\n",
      "    negative       0.56      1.00      0.71        10\n",
      "     neutral       0.33      0.10      0.15        10\n",
      "    positive       0.89      0.80      0.84        10\n",
      "\n",
      "    accuracy                           0.63        30\n",
      "   macro avg       0.59      0.63      0.57        30\n",
      "weighted avg       0.59      0.63      0.57        30\n",
      "\n"
     ]
    }
   ],
   "source": [
    "from textblob import TextBlob\n",
    "from vaderSentiment.vaderSentiment import SentimentIntensityAnalyzer\n",
    "from sklearn.metrics import classification_report\n",
    "from tabulate import tabulate\n",
    "\n",
    "# Sample data for demonstration\n",
    "data = [\n",
    "    (\"I love this product, it's amazing!\", 'positive'),\n",
    "    (\"This product is terrible, I hate it.\", 'negative'),\n",
    "    (\"It's okay, not bad but not great either.\", 'neutral'),\n",
    "    (\"Best product ever, highly recommended!\", 'positive'),\n",
    "    (\"I'm really disappointed with the quality.\", 'negative'),\n",
    "    (\"So-so product, nothing special about it.\", 'neutral'),\n",
    "    (\"The customer service was excellent!\", 'positive'),\n",
    "    (\"I wasted my money on this useless product.\", 'negative'),\n",
    "    (\"It's not the worst, but certainly not the best.\", 'neutral'),\n",
    "    (\"I can't live without this product, it's a lifesaver!\", 'positive'),\n",
    "    (\"The product arrived damaged and unusable.\", 'negative'),\n",
    "    (\"It's average, neither good nor bad.\", 'neutral'),\n",
    "    (\"Highly disappointed with the purchase.\", 'negative'),\n",
    "    (\"The product exceeded my expectations.\", 'positive'),\n",
    "    (\"It's just okay, nothing extraordinary.\", 'neutral'),\n",
    "    (\"This product is excellent, it exceeded all my expectations!\", 'positive'),\n",
    "    (\"I regret purchasing this product, it's a waste of money.\", 'negative'),\n",
    "    (\"It's neither good nor bad, just average.\", 'neutral'),\n",
    "    (\"Outstanding customer service, highly recommended!\", 'positive'),\n",
    "    (\"I'm very disappointed with the quality of this item.\", 'negative'),\n",
    "    (\"It's not the best product, but it gets the job done.\", 'neutral'),\n",
    "    (\"This product is a game-changer, I can't imagine life without it!\", 'positive'),\n",
    "    (\"I received a defective product, very dissatisfied.\", 'negative'),\n",
    "    (\"It's neither great nor terrible, just okay.\", 'neutral'),\n",
    "    (\"Fantastic product, I would buy it again in a heartbeat!\", 'positive'),\n",
    "    (\"Avoid this product at all costs, complete waste of money.\", 'negative'),\n",
    "    (\"It's decent, but nothing extraordinary.\", 'neutral'),\n",
    "    (\"Impressive quality, exceeded my expectations!\", 'positive'),\n",
    "    (\"I'm very unhappy with this purchase, total disappointment.\", 'negative'),\n",
    "    (\"It's neither amazing nor terrible, somewhere in between.\", 'neutral')\n",
    "]\n",
    "\n",
    "# Initialize an empty list to store the data in tabular format\n",
    "table_data = [[\"Text\", \"Actual Label\", \"TextBlob Polarity\", \"TextBlob Sentiment\", \"VADER Compound\", \"VADER Sentiment\"]]\n",
    "\n",
    "# Lexicon-based approach using TextBlob and VADER\n",
    "for text, actual_label in data:\n",
    "    # TextBlob\n",
    "    blob = TextBlob(text)\n",
    "    tb_polarity = blob.sentiment.polarity\n",
    "    \n",
    "    # Determine label based on polarity score from TextBlob\n",
    "    if tb_polarity > 0:\n",
    "        tb_label = 'positive'\n",
    "    elif tb_polarity < 0:\n",
    "        tb_label = 'negative'\n",
    "    else:\n",
    "        tb_label = 'neutral'\n",
    "\n",
    "    # VADER\n",
    "    analyzer = SentimentIntensityAnalyzer()\n",
    "    vs = analyzer.polarity_scores(text)\n",
    "    vader_compound = vs['compound']\n",
    "\n",
    "    # Determine label based on compound score from VADER\n",
    "    if vader_compound > 0.05:\n",
    "        vader_label = 'positive'\n",
    "    elif vader_compound < -0.05:\n",
    "        vader_label = 'negative'\n",
    "    else:\n",
    "        vader_label = 'neutral'\n",
    "\n",
    "    table_data.append([text, actual_label, tb_polarity, tb_label, vader_compound, vader_label])\n",
    "\n",
    "print(tabulate(table_data, headers=\"firstrow\", tablefmt=\"plain\"))\n",
    "\n",
    "# Calculate classification report for TextBlob\n",
    "tb_classification_report = classification_report([label for _, label, _, tb_label, _, _ in table_data[1:]], [tb_label for _, _, _, tb_label, _, _ in table_data[1:]], target_names=['negative', 'neutral', 'positive'])\n",
    "\n",
    "# Calculate classification report for VADER\n",
    "vader_classification_report = classification_report([label for _, label, _, _, _, vader_label in table_data[1:]], [vader_label for _, _, _, _, _, vader_label in table_data[1:]], target_names=['negative', 'neutral', 'positive'])\n",
    "\n",
    "# Print classification report for TextBlob\n",
    "print(\"\\nClassification Report for TextBlob:\")\n",
    "print(tb_classification_report)\n",
    "\n",
    "# Print classification report for VADER\n",
    "print(\"\\nClassification Report for VADER:\")\n",
    "print(vader_classification_report)\n"
   ]
  },
  {
   "cell_type": "markdown",
   "metadata": {},
   "source": [
    "ML-based Approach"
   ]
  },
  {
   "cell_type": "code",
   "execution_count": 13,
   "metadata": {},
   "outputs": [],
   "source": [
    "from sklearn.feature_extraction.text import CountVectorizer\n",
    "from sklearn.model_selection import train_test_split\n",
    "from sklearn.naive_bayes import MultinomialNB\n",
    "from sklearn.svm import SVC\n",
    "from sklearn.metrics import classification_report\n"
   ]
  },
  {
   "cell_type": "code",
   "execution_count": 14,
   "metadata": {},
   "outputs": [],
   "source": [
    "data = [\n",
    "    (\"I love this product, it's amazing!\", 'positive'),\n",
    "    (\"This product is terrible, I hate it.\", 'negative'),\n",
    "    (\"It's okay, not bad but not great either.\", 'neutral'),\n",
    "    (\"Best product ever, highly recommended!\", 'positive'),\n",
    "    (\"I'm really disappointed with the quality.\", 'negative'),\n",
    "    (\"So-so product, nothing special about it.\", 'neutral'),\n",
    "    (\"The customer service was excellent!\", 'positive'),\n",
    "    (\"I wasted my money on this useless product.\", 'negative'),\n",
    "    (\"It's not the worst, but certainly not the best.\", 'neutral'),\n",
    "    (\"I can't live without this product, it's a lifesaver!\", 'positive'),\n",
    "    (\"The product arrived damaged and unusable.\", 'negative'),\n",
    "    (\"It's average, neither good nor bad.\", 'neutral'),\n",
    "    (\"Highly disappointed with the purchase.\", 'negative'),\n",
    "    (\"The product exceeded my expectations.\", 'positive'),\n",
    "    (\"It's just okay, nothing extraordinary.\", 'neutral'),\n",
    "    (\"This product is excellent, it exceeded all my expectations!\", 'positive'),\n",
    "    (\"I regret purchasing this product, it's a waste of money.\", 'negative'),\n",
    "    (\"It's neither good nor bad, just average.\", 'neutral'),\n",
    "    (\"Outstanding customer service, highly recommended!\", 'positive'),\n",
    "    (\"I'm very disappointed with the quality of this item.\", 'negative'),\n",
    "    (\"It's not the best product, but it gets the job done.\", 'neutral'),\n",
    "    (\"This product is a game-changer, I can't imagine life without it!\", 'positive'),\n",
    "    (\"I received a defective product, very dissatisfied.\", 'negative'),\n",
    "    (\"It's neither great nor terrible, just okay.\", 'neutral'),\n",
    "    (\"Fantastic product, I would buy it again in a heartbeat!\", 'positive'),\n",
    "    (\"Avoid this product at all costs, complete waste of money.\", 'negative'),\n",
    "    (\"It's decent, but nothing extraordinary.\", 'neutral'),\n",
    "    (\"Impressive quality, exceeded my expectations!\", 'positive'),\n",
    "    (\"I'm very unhappy with this purchase, total disappointment.\", 'negative'),\n",
    "    (\"It's neither amazing nor terrible, somewhere in between.\", 'neutral')\n",
    "]\n"
   ]
  },
  {
   "cell_type": "code",
   "execution_count": 15,
   "metadata": {},
   "outputs": [],
   "source": [
    "# Split data into training and testing sets\n",
    "texts = [text for text, _ in data]\n",
    "labels = [label for _, label in data]\n",
    "X_train, X_test, y_train, y_test = train_test_split(texts, labels, test_size=0.4, random_state=42)\n"
   ]
  },
  {
   "cell_type": "code",
   "execution_count": 16,
   "metadata": {},
   "outputs": [],
   "source": [
    "# Extract features (bag of words representation)\n",
    "vectorizer = CountVectorizer()\n",
    "X_train = vectorizer.fit_transform(X_train)\n",
    "X_test = vectorizer.transform(X_test)\n"
   ]
  },
  {
   "cell_type": "code",
   "execution_count": 17,
   "metadata": {},
   "outputs": [],
   "source": [
    "# Initialize classifiers\n",
    "nb_classifier = MultinomialNB()\n",
    "svm_classifier = SVC(kernel='linear')\n"
   ]
  },
  {
   "cell_type": "code",
   "execution_count": 18,
   "metadata": {},
   "outputs": [
    {
     "data": {
      "text/html": [
       "<style>#sk-container-id-1 {color: black;background-color: white;}#sk-container-id-1 pre{padding: 0;}#sk-container-id-1 div.sk-toggleable {background-color: white;}#sk-container-id-1 label.sk-toggleable__label {cursor: pointer;display: block;width: 100%;margin-bottom: 0;padding: 0.3em;box-sizing: border-box;text-align: center;}#sk-container-id-1 label.sk-toggleable__label-arrow:before {content: \"▸\";float: left;margin-right: 0.25em;color: #696969;}#sk-container-id-1 label.sk-toggleable__label-arrow:hover:before {color: black;}#sk-container-id-1 div.sk-estimator:hover label.sk-toggleable__label-arrow:before {color: black;}#sk-container-id-1 div.sk-toggleable__content {max-height: 0;max-width: 0;overflow: hidden;text-align: left;background-color: #f0f8ff;}#sk-container-id-1 div.sk-toggleable__content pre {margin: 0.2em;color: black;border-radius: 0.25em;background-color: #f0f8ff;}#sk-container-id-1 input.sk-toggleable__control:checked~div.sk-toggleable__content {max-height: 200px;max-width: 100%;overflow: auto;}#sk-container-id-1 input.sk-toggleable__control:checked~label.sk-toggleable__label-arrow:before {content: \"▾\";}#sk-container-id-1 div.sk-estimator input.sk-toggleable__control:checked~label.sk-toggleable__label {background-color: #d4ebff;}#sk-container-id-1 div.sk-label input.sk-toggleable__control:checked~label.sk-toggleable__label {background-color: #d4ebff;}#sk-container-id-1 input.sk-hidden--visually {border: 0;clip: rect(1px 1px 1px 1px);clip: rect(1px, 1px, 1px, 1px);height: 1px;margin: -1px;overflow: hidden;padding: 0;position: absolute;width: 1px;}#sk-container-id-1 div.sk-estimator {font-family: monospace;background-color: #f0f8ff;border: 1px dotted black;border-radius: 0.25em;box-sizing: border-box;margin-bottom: 0.5em;}#sk-container-id-1 div.sk-estimator:hover {background-color: #d4ebff;}#sk-container-id-1 div.sk-parallel-item::after {content: \"\";width: 100%;border-bottom: 1px solid gray;flex-grow: 1;}#sk-container-id-1 div.sk-label:hover label.sk-toggleable__label {background-color: #d4ebff;}#sk-container-id-1 div.sk-serial::before {content: \"\";position: absolute;border-left: 1px solid gray;box-sizing: border-box;top: 0;bottom: 0;left: 50%;z-index: 0;}#sk-container-id-1 div.sk-serial {display: flex;flex-direction: column;align-items: center;background-color: white;padding-right: 0.2em;padding-left: 0.2em;position: relative;}#sk-container-id-1 div.sk-item {position: relative;z-index: 1;}#sk-container-id-1 div.sk-parallel {display: flex;align-items: stretch;justify-content: center;background-color: white;position: relative;}#sk-container-id-1 div.sk-item::before, #sk-container-id-1 div.sk-parallel-item::before {content: \"\";position: absolute;border-left: 1px solid gray;box-sizing: border-box;top: 0;bottom: 0;left: 50%;z-index: -1;}#sk-container-id-1 div.sk-parallel-item {display: flex;flex-direction: column;z-index: 1;position: relative;background-color: white;}#sk-container-id-1 div.sk-parallel-item:first-child::after {align-self: flex-end;width: 50%;}#sk-container-id-1 div.sk-parallel-item:last-child::after {align-self: flex-start;width: 50%;}#sk-container-id-1 div.sk-parallel-item:only-child::after {width: 0;}#sk-container-id-1 div.sk-dashed-wrapped {border: 1px dashed gray;margin: 0 0.4em 0.5em 0.4em;box-sizing: border-box;padding-bottom: 0.4em;background-color: white;}#sk-container-id-1 div.sk-label label {font-family: monospace;font-weight: bold;display: inline-block;line-height: 1.2em;}#sk-container-id-1 div.sk-label-container {text-align: center;}#sk-container-id-1 div.sk-container {/* jupyter's `normalize.less` sets `[hidden] { display: none; }` but bootstrap.min.css set `[hidden] { display: none !important; }` so we also need the `!important` here to be able to override the default hidden behavior on the sphinx rendered scikit-learn.org. See: https://github.com/scikit-learn/scikit-learn/issues/21755 */display: inline-block !important;position: relative;}#sk-container-id-1 div.sk-text-repr-fallback {display: none;}</style><div id=\"sk-container-id-1\" class=\"sk-top-container\"><div class=\"sk-text-repr-fallback\"><pre>SVC(kernel=&#x27;linear&#x27;)</pre><b>In a Jupyter environment, please rerun this cell to show the HTML representation or trust the notebook. <br />On GitHub, the HTML representation is unable to render, please try loading this page with nbviewer.org.</b></div><div class=\"sk-container\" hidden><div class=\"sk-item\"><div class=\"sk-estimator sk-toggleable\"><input class=\"sk-toggleable__control sk-hidden--visually\" id=\"sk-estimator-id-1\" type=\"checkbox\" checked><label for=\"sk-estimator-id-1\" class=\"sk-toggleable__label sk-toggleable__label-arrow\">SVC</label><div class=\"sk-toggleable__content\"><pre>SVC(kernel=&#x27;linear&#x27;)</pre></div></div></div></div></div>"
      ],
      "text/plain": [
       "SVC(kernel='linear')"
      ]
     },
     "execution_count": 18,
     "metadata": {},
     "output_type": "execute_result"
    }
   ],
   "source": [
    "# Train classifiers\n",
    "nb_classifier.fit(X_train, y_train)\n",
    "svm_classifier.fit(X_train, y_train)\n"
   ]
  },
  {
   "cell_type": "code",
   "execution_count": 19,
   "metadata": {},
   "outputs": [],
   "source": [
    "# Predict sentiment using classifiers\n",
    "for text, actual_label in zip(X_test, y_test):\n",
    "    # Predict sentiment using Naive Bayes\n",
    "    nb_prediction = nb_classifier.predict(text)[0]\n",
    "\n",
    "    # Predict sentiment using SVM\n",
    "    svm_prediction = svm_classifier.predict(text)[0]\n"
   ]
  },
  {
   "cell_type": "code",
   "execution_count": 20,
   "metadata": {},
   "outputs": [
    {
     "name": "stdout",
     "output_type": "stream",
     "text": [
      "\n",
      "Classification Report for Naive Bayes:\n",
      "              precision    recall  f1-score   support\n",
      "\n",
      "    negative       0.80      1.00      0.89         4\n",
      "     neutral       0.75      1.00      0.86         3\n",
      "    positive       1.00      0.60      0.75         5\n",
      "\n",
      "    accuracy                           0.83        12\n",
      "   macro avg       0.85      0.87      0.83        12\n",
      "weighted avg       0.87      0.83      0.82        12\n",
      "\n",
      "\n",
      "Classification Report for SVM:\n",
      "              precision    recall  f1-score   support\n",
      "\n",
      "    negative       0.75      0.75      0.75         4\n",
      "     neutral       0.75      1.00      0.86         3\n",
      "    positive       0.75      0.60      0.67         5\n",
      "\n",
      "    accuracy                           0.75        12\n",
      "   macro avg       0.75      0.78      0.76        12\n",
      "weighted avg       0.75      0.75      0.74        12\n",
      "\n"
     ]
    }
   ],
   "source": [
    "# Calculate classification report for Naive Bayes\n",
    "nb_classification_report = classification_report(y_test, nb_classifier.predict(X_test), target_names=['negative', 'neutral', 'positive'])\n",
    "\n",
    "# Calculate classification report for SVM\n",
    "svm_classification_report = classification_report(y_test, svm_classifier.predict(X_test), target_names=['negative', 'neutral', 'positive'])\n",
    "\n",
    "# Print classification report for Naive Bayes\n",
    "print(\"\\nClassification Report for Naive Bayes:\")\n",
    "print(nb_classification_report)\n",
    "\n",
    "# Print classification report for SVM\n",
    "print(\"\\nClassification Report for SVM:\")\n",
    "print(svm_classification_report)\n"
   ]
  }
 ],
 "metadata": {
  "kernelspec": {
   "display_name": "base",
   "language": "python",
   "name": "python3"
  },
  "language_info": {
   "codemirror_mode": {
    "name": "ipython",
    "version": 3
   },
   "file_extension": ".py",
   "mimetype": "text/x-python",
   "name": "python",
   "nbconvert_exporter": "python",
   "pygments_lexer": "ipython3",
   "version": "3.11.5"
  }
 },
 "nbformat": 4,
 "nbformat_minor": 2
}
