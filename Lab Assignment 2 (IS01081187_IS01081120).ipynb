{
 "cells": [
  {
   "cell_type": "markdown",
   "id": "5b964ef2",
   "metadata": {},
   "source": [
    "- Marsya Nur Iman Binti Mohd Ishak (IS01081187)\n",
    "- Nur Amira Hanina Binti Khairul Nazmi (IS0101120)"
   ]
  },
  {
   "cell_type": "code",
   "execution_count": 2,
   "id": "1c1a6f82",
   "metadata": {},
   "outputs": [],
   "source": [
    "import pandas as pd\n",
    "import re\n",
    "import string \n",
    "import nltk\n",
    "from nltk.corpus import stopwords\n",
    "from nltk.stem import WordNetLemmatizer"
   ]
  },
  {
   "cell_type": "code",
   "execution_count": 3,
   "id": "19562650",
   "metadata": {},
   "outputs": [
    {
     "data": {
      "text/html": [
       "<div>\n",
       "<style scoped>\n",
       "    .dataframe tbody tr th:only-of-type {\n",
       "        vertical-align: middle;\n",
       "    }\n",
       "\n",
       "    .dataframe tbody tr th {\n",
       "        vertical-align: top;\n",
       "    }\n",
       "\n",
       "    .dataframe thead th {\n",
       "        text-align: right;\n",
       "    }\n",
       "</style>\n",
       "<table border=\"1\" class=\"dataframe\">\n",
       "  <thead>\n",
       "    <tr style=\"text-align: right;\">\n",
       "      <th></th>\n",
       "      <th>Id</th>\n",
       "      <th>Score</th>\n",
       "      <th>clean_number</th>\n",
       "      <th>token_data</th>\n",
       "    </tr>\n",
       "  </thead>\n",
       "  <tbody>\n",
       "    <tr>\n",
       "      <th>0</th>\n",
       "      <td>1</td>\n",
       "      <td>5</td>\n",
       "      <td>i have bought several of the vitality canned d...</td>\n",
       "      <td>['i', 'have', 'bought', 'several', 'of', 'the'...</td>\n",
       "    </tr>\n",
       "    <tr>\n",
       "      <th>1</th>\n",
       "      <td>2</td>\n",
       "      <td>1</td>\n",
       "      <td>product arrived labeled as jumbo salted peanut...</td>\n",
       "      <td>['product', 'arrived', 'labeled', 'as', 'jumbo...</td>\n",
       "    </tr>\n",
       "    <tr>\n",
       "      <th>2</th>\n",
       "      <td>3</td>\n",
       "      <td>4</td>\n",
       "      <td>this is a confection that has been around a fe...</td>\n",
       "      <td>['this', 'is', 'a', 'confection', 'that', 'has...</td>\n",
       "    </tr>\n",
       "    <tr>\n",
       "      <th>3</th>\n",
       "      <td>4</td>\n",
       "      <td>2</td>\n",
       "      <td>if you are looking for the secret ingredient i...</td>\n",
       "      <td>['if', 'you', 'are', 'looking', 'for', 'the', ...</td>\n",
       "    </tr>\n",
       "    <tr>\n",
       "      <th>4</th>\n",
       "      <td>5</td>\n",
       "      <td>5</td>\n",
       "      <td>great taffy at a great price  there was a wide...</td>\n",
       "      <td>['great', 'taffy', 'at', 'a', 'great', 'price'...</td>\n",
       "    </tr>\n",
       "  </tbody>\n",
       "</table>\n",
       "</div>"
      ],
      "text/plain": [
       "   Id  Score                                       clean_number  \\\n",
       "0   1      5  i have bought several of the vitality canned d...   \n",
       "1   2      1  product arrived labeled as jumbo salted peanut...   \n",
       "2   3      4  this is a confection that has been around a fe...   \n",
       "3   4      2  if you are looking for the secret ingredient i...   \n",
       "4   5      5  great taffy at a great price  there was a wide...   \n",
       "\n",
       "                                          token_data  \n",
       "0  ['i', 'have', 'bought', 'several', 'of', 'the'...  \n",
       "1  ['product', 'arrived', 'labeled', 'as', 'jumbo...  \n",
       "2  ['this', 'is', 'a', 'confection', 'that', 'has...  \n",
       "3  ['if', 'you', 'are', 'looking', 'for', 'the', ...  \n",
       "4  ['great', 'taffy', 'at', 'a', 'great', 'price'...  "
      ]
     },
     "execution_count": 3,
     "metadata": {},
     "output_type": "execute_result"
    }
   ],
   "source": [
    "df = pd.read_csv(\"cleanReviews.csv\")\n",
    "df.head()"
   ]
  },
  {
   "cell_type": "code",
   "execution_count": 4,
   "id": "c74f1b34",
   "metadata": {},
   "outputs": [
    {
     "data": {
      "text/plain": [
       "(568454, 4)"
      ]
     },
     "execution_count": 4,
     "metadata": {},
     "output_type": "execute_result"
    }
   ],
   "source": [
    "df.shape"
   ]
  },
  {
   "cell_type": "code",
   "execution_count": 5,
   "id": "df266c6b",
   "metadata": {},
   "outputs": [],
   "source": [
    "# read data\n",
    "df = pd.read_csv(\"cleanReviews.csv\")"
   ]
  },
  {
   "cell_type": "code",
   "execution_count": 6,
   "id": "5f76e6c8",
   "metadata": {},
   "outputs": [
    {
     "data": {
      "text/html": [
       "<div>\n",
       "<style scoped>\n",
       "    .dataframe tbody tr th:only-of-type {\n",
       "        vertical-align: middle;\n",
       "    }\n",
       "\n",
       "    .dataframe tbody tr th {\n",
       "        vertical-align: top;\n",
       "    }\n",
       "\n",
       "    .dataframe thead th {\n",
       "        text-align: right;\n",
       "    }\n",
       "</style>\n",
       "<table border=\"1\" class=\"dataframe\">\n",
       "  <thead>\n",
       "    <tr style=\"text-align: right;\">\n",
       "      <th></th>\n",
       "      <th>Id</th>\n",
       "      <th>Score</th>\n",
       "      <th>clean_number</th>\n",
       "      <th>token_data</th>\n",
       "    </tr>\n",
       "  </thead>\n",
       "  <tbody>\n",
       "    <tr>\n",
       "      <th>0</th>\n",
       "      <td>1</td>\n",
       "      <td>5</td>\n",
       "      <td>i have bought several of the vitality canned d...</td>\n",
       "      <td>['i', 'have', 'bought', 'several', 'of', 'the'...</td>\n",
       "    </tr>\n",
       "    <tr>\n",
       "      <th>1</th>\n",
       "      <td>2</td>\n",
       "      <td>1</td>\n",
       "      <td>product arrived labeled as jumbo salted peanut...</td>\n",
       "      <td>['product', 'arrived', 'labeled', 'as', 'jumbo...</td>\n",
       "    </tr>\n",
       "    <tr>\n",
       "      <th>2</th>\n",
       "      <td>3</td>\n",
       "      <td>4</td>\n",
       "      <td>this is a confection that has been around a fe...</td>\n",
       "      <td>['this', 'is', 'a', 'confection', 'that', 'has...</td>\n",
       "    </tr>\n",
       "    <tr>\n",
       "      <th>3</th>\n",
       "      <td>4</td>\n",
       "      <td>2</td>\n",
       "      <td>if you are looking for the secret ingredient i...</td>\n",
       "      <td>['if', 'you', 'are', 'looking', 'for', 'the', ...</td>\n",
       "    </tr>\n",
       "    <tr>\n",
       "      <th>4</th>\n",
       "      <td>5</td>\n",
       "      <td>5</td>\n",
       "      <td>great taffy at a great price  there was a wide...</td>\n",
       "      <td>['great', 'taffy', 'at', 'a', 'great', 'price'...</td>\n",
       "    </tr>\n",
       "    <tr>\n",
       "      <th>5</th>\n",
       "      <td>6</td>\n",
       "      <td>4</td>\n",
       "      <td>i got a wild hair for taffy and ordered this f...</td>\n",
       "      <td>['i', 'got', 'a', 'wild', 'hair', 'for', 'taff...</td>\n",
       "    </tr>\n",
       "    <tr>\n",
       "      <th>6</th>\n",
       "      <td>7</td>\n",
       "      <td>5</td>\n",
       "      <td>this saltwater taffy had great flavors and was...</td>\n",
       "      <td>['this', 'saltwater', 'taffy', 'had', 'great',...</td>\n",
       "    </tr>\n",
       "    <tr>\n",
       "      <th>7</th>\n",
       "      <td>8</td>\n",
       "      <td>5</td>\n",
       "      <td>this taffy is so good  it is very soft and che...</td>\n",
       "      <td>['this', 'taffy', 'is', 'so', 'good', 'it', 'i...</td>\n",
       "    </tr>\n",
       "    <tr>\n",
       "      <th>8</th>\n",
       "      <td>9</td>\n",
       "      <td>5</td>\n",
       "      <td>right now im mostly just sprouting this so my ...</td>\n",
       "      <td>['right', 'now', 'im', 'mostly', 'just', 'spro...</td>\n",
       "    </tr>\n",
       "    <tr>\n",
       "      <th>9</th>\n",
       "      <td>10</td>\n",
       "      <td>5</td>\n",
       "      <td>this is a very healthy dog food good for their...</td>\n",
       "      <td>['this', 'is', 'a', 'very', 'healthy', 'dog', ...</td>\n",
       "    </tr>\n",
       "  </tbody>\n",
       "</table>\n",
       "</div>"
      ],
      "text/plain": [
       "   Id  Score                                       clean_number  \\\n",
       "0   1      5  i have bought several of the vitality canned d...   \n",
       "1   2      1  product arrived labeled as jumbo salted peanut...   \n",
       "2   3      4  this is a confection that has been around a fe...   \n",
       "3   4      2  if you are looking for the secret ingredient i...   \n",
       "4   5      5  great taffy at a great price  there was a wide...   \n",
       "5   6      4  i got a wild hair for taffy and ordered this f...   \n",
       "6   7      5  this saltwater taffy had great flavors and was...   \n",
       "7   8      5  this taffy is so good  it is very soft and che...   \n",
       "8   9      5  right now im mostly just sprouting this so my ...   \n",
       "9  10      5  this is a very healthy dog food good for their...   \n",
       "\n",
       "                                          token_data  \n",
       "0  ['i', 'have', 'bought', 'several', 'of', 'the'...  \n",
       "1  ['product', 'arrived', 'labeled', 'as', 'jumbo...  \n",
       "2  ['this', 'is', 'a', 'confection', 'that', 'has...  \n",
       "3  ['if', 'you', 'are', 'looking', 'for', 'the', ...  \n",
       "4  ['great', 'taffy', 'at', 'a', 'great', 'price'...  \n",
       "5  ['i', 'got', 'a', 'wild', 'hair', 'for', 'taff...  \n",
       "6  ['this', 'saltwater', 'taffy', 'had', 'great',...  \n",
       "7  ['this', 'taffy', 'is', 'so', 'good', 'it', 'i...  \n",
       "8  ['right', 'now', 'im', 'mostly', 'just', 'spro...  \n",
       "9  ['this', 'is', 'a', 'very', 'healthy', 'dog', ...  "
      ]
     },
     "execution_count": 6,
     "metadata": {},
     "output_type": "execute_result"
    }
   ],
   "source": [
    "df.head(10)"
   ]
  },
  {
   "cell_type": "code",
   "execution_count": 7,
   "id": "23f73039",
   "metadata": {},
   "outputs": [
    {
     "data": {
      "text/plain": [
       "(568454, 4)"
      ]
     },
     "execution_count": 7,
     "metadata": {},
     "output_type": "execute_result"
    }
   ],
   "source": [
    "df.shape"
   ]
  },
  {
   "cell_type": "code",
   "execution_count": 8,
   "id": "0898ea3f",
   "metadata": {},
   "outputs": [
    {
     "data": {
      "text/plain": [
       "0    i have bought several of the vitality canned d...\n",
       "1    product arrived labeled as jumbo salted peanut...\n",
       "2    this is a confection that has been around a fe...\n",
       "3    if you are looking for the secret ingredient i...\n",
       "4    great taffy at a great price  there was a wide...\n",
       "Name: clean_number, dtype: object"
      ]
     },
     "execution_count": 8,
     "metadata": {},
     "output_type": "execute_result"
    }
   ],
   "source": [
    "# select clean_number column\n",
    "df_t = df['clean_number']\n",
    "df_t.head()"
   ]
  },
  {
   "cell_type": "code",
   "execution_count": 9,
   "id": "4484ed0f",
   "metadata": {},
   "outputs": [
    {
     "name": "stdout",
     "output_type": "stream",
     "text": [
      "174959\n"
     ]
    }
   ],
   "source": [
    "# check no. of duplicates in clean_number column\n",
    "df_t_duplicates = df_t.duplicated()\n",
    "print(df_t_duplicates.sum())"
   ]
  },
  {
   "cell_type": "code",
   "execution_count": 10,
   "id": "f59bdf67",
   "metadata": {},
   "outputs": [
    {
     "data": {
      "text/plain": [
       "(393495,)"
      ]
     },
     "execution_count": 10,
     "metadata": {},
     "output_type": "execute_result"
    }
   ],
   "source": [
    "# remove duplicates in clean_number column\n",
    "df_rdup = df_t.drop_duplicates(keep='first')\n",
    "df_rdup.shape"
   ]
  },
  {
   "cell_type": "markdown",
   "id": "57e2d2f1",
   "metadata": {},
   "source": [
    "# Removing HTML tags and unwanted characters"
   ]
  },
  {
   "cell_type": "code",
   "execution_count": 11,
   "id": "cfe01901",
   "metadata": {},
   "outputs": [],
   "source": [
    "def get_cleaned_textdata(sentence):\n",
    "    modified_sentence = re.sub(r'<.*?>',' ', sentence)\n",
    "    modified_sentence = ''.join([i if i not in string.punctuation else ' ' for i in modified_sentence])\n",
    "    modified_sentence = re.sub(r'\\d+', ' ', modified_sentence)\n",
    "    modified_sentence = re.sub(r'\\s+', ' ', modified_sentence)\n",
    "    modified_sentence = modified_sentence.lower()\n",
    "    return modified_sentence"
   ]
  },
  {
   "cell_type": "markdown",
   "id": "63d67fdb",
   "metadata": {},
   "source": [
    "# Remove Duplicate Records"
   ]
  },
  {
   "cell_type": "code",
   "execution_count": 12,
   "id": "4277359f",
   "metadata": {},
   "outputs": [],
   "source": [
    "df_rdupclean = df_rdup.apply(get_cleaned_textdata)"
   ]
  },
  {
   "cell_type": "code",
   "execution_count": 13,
   "id": "f39ce664",
   "metadata": {},
   "outputs": [
    {
     "name": "stdout",
     "output_type": "stream",
     "text": [
      "even with small containers they dont fill them up these little tins are less than half filled and at the price charged it seems a ripoff is there some exotic ingredient as costly as gold contained in those tiny squares or how about the cereal ploy they were filled at the factory but settled in transportbr can manufacturers be honest in their dealings\n"
     ]
    }
   ],
   "source": [
    "# check any row\n",
    "print(df_rdupclean[200])"
   ]
  },
  {
   "cell_type": "code",
   "execution_count": 14,
   "id": "bf9cd113",
   "metadata": {},
   "outputs": [
    {
     "name": "stdout",
     "output_type": "stream",
     "text": [
      "0         i have bought several of the vitality canned d...\n",
      "1         product arrived labeled as jumbo salted peanut...\n",
      "2         this is a confection that has been around a fe...\n",
      "3         if you are looking for the secret ingredient i...\n",
      "4         great taffy at a great price there was a wide ...\n",
      "                                ...                        \n",
      "568449    great for sesame chickenthis is a good if not ...\n",
      "568450    im disappointed with the flavor the chocolate ...\n",
      "568451    these stars are small so you can give of those...\n",
      "568452    these are the best treats for training and rew...\n",
      "568453    i am very satisfied product is as advertised i...\n",
      "Name: clean_number, Length: 393495, dtype: object\n"
     ]
    }
   ],
   "source": [
    "print(df_rdupclean)"
   ]
  },
  {
   "cell_type": "code",
   "execution_count": 15,
   "id": "04760cec",
   "metadata": {},
   "outputs": [],
   "source": [
    "# Select relevant columns for sentiment analysis\n",
    "df = df[['Score', 'clean_number']]"
   ]
  },
  {
   "cell_type": "markdown",
   "id": "7b0283dd",
   "metadata": {},
   "source": [
    "# Feature Extraction (Bag Of Words AND TF-IDF)"
   ]
  },
  {
   "cell_type": "code",
   "execution_count": 16,
   "id": "97fc7a40",
   "metadata": {},
   "outputs": [],
   "source": [
    "from sklearn.feature_extraction.text import CountVectorizer, TfidfVectorizer"
   ]
  },
  {
   "cell_type": "markdown",
   "id": "58c1dab0",
   "metadata": {},
   "source": [
    "# Bag Of Words"
   ]
  },
  {
   "cell_type": "code",
   "execution_count": 17,
   "id": "3f9fc09c",
   "metadata": {},
   "outputs": [
    {
     "name": "stdout",
     "output_type": "stream",
     "text": [
      "BoW feature shape: (568454, 224192)\n",
      "Vocabulary size: 224192\n"
     ]
    }
   ],
   "source": [
    "# Initialize the CountVectorizer\n",
    "vectorizer = CountVectorizer()\n",
    "\n",
    "# Fit and transform the clean_number data\n",
    "bow_features = vectorizer.fit_transform(df['clean_number'])\n",
    "\n",
    "# Get the vocabulary (unique words)\n",
    "vocabulary = vectorizer.get_feature_names_out()\n",
    "\n",
    "# Print the shape of the BoW features and the vocabulary size\n",
    "print(\"BoW feature shape:\", bow_features.shape)\n",
    "print(\"Vocabulary size:\", len(vocabulary))"
   ]
  },
  {
   "cell_type": "code",
   "execution_count": 18,
   "id": "5dd40959",
   "metadata": {},
   "outputs": [
    {
     "name": "stdout",
     "output_type": "stream",
     "text": [
      "Step 1: List of Unique Words: ['if', 'each', 'the', 'flavors', 'amazing', 'which', 'satisfying', 'and', 'also', 'there', 'soft', 'food', 'great', 'wide', 'so', 'would', 'beachthemed', 'happen', 'her', 'everyone', 'expensive', 'deal', 'good', 'puppies', 'you', 'were', 'dog', 'at', 'for', 'eats', 'definitely', 'candies', 'taffy', 'this', 'party', 'version', 'amount', 'a', 'fralingers', 'in', 'price', 'recommend', 'well', 'buying', 'are', 'every', 'required', 'of', 'small', 'digestion', 'stuck', 'individually', 'did', 'together', 'lover', 'had', 'it', 'loved', 'delivery', 'assortment', 'candy', 'yummy', 'chewy', 'saltwater', 'highly', 'their', 'was', 'your', 'wrapped', 'is', 'served', 'quick', 'feeding', 'my', 'i', 'very', 'healthy', 'none']\n",
      "\n",
      "Step 2: Word Frequency Table:\n",
      "Word\tFrequency\n",
      "a\t6\n",
      "this\t5\n",
      "very\t5\n",
      "taffy\t5\n",
      "is\t4\n",
      "was\t4\n",
      "and\t4\n",
      "it\t4\n",
      "good\t3\n",
      "at\t3\n",
      "great\t3\n",
      "the\t3\n",
      "dog\t2\n",
      "for\t2\n",
      "of\t2\n",
      "flavors\t2\n",
      "soft\t2\n",
      "chewy\t2\n",
      "candy\t2\n",
      "would\t2\n",
      "recommend\t2\n",
      "i\t2\n",
      "healthy\t1\n",
      "food\t1\n",
      "their\t1\n",
      "digestion\t1\n",
      "also\t1\n",
      "small\t1\n",
      "puppies\t1\n",
      "my\t1\n",
      "eats\t1\n",
      "her\t1\n",
      "required\t1\n",
      "amount\t1\n",
      "every\t1\n",
      "feeding\t1\n",
      "price\t1\n",
      "there\t1\n",
      "wide\t1\n",
      "assortment\t1\n",
      "yummy\t1\n",
      "delivery\t1\n",
      "quick\t1\n",
      "if\t1\n",
      "your\t1\n",
      "lover\t1\n",
      "deal\t1\n",
      "saltwater\t1\n",
      "had\t1\n",
      "each\t1\n",
      "individually\t1\n",
      "wrapped\t1\n",
      "well\t1\n",
      "none\t1\n",
      "candies\t1\n",
      "were\t1\n",
      "stuck\t1\n",
      "together\t1\n",
      "which\t1\n",
      "did\t1\n",
      "happen\t1\n",
      "in\t1\n",
      "expensive\t1\n",
      "version\t1\n",
      "fralingers\t1\n",
      "highly\t1\n",
      "served\t1\n",
      "beachthemed\t1\n",
      "party\t1\n",
      "everyone\t1\n",
      "loved\t1\n",
      "so\t1\n",
      "are\t1\n",
      "amazing\t1\n",
      "definitely\t1\n",
      "you\t1\n",
      "buying\t1\n",
      "satisfying\t1\n",
      "\n",
      "Step 3: Document Vectors:\n",
      "Sentence: this is a very healthy dog food good for their digestion also good for small puppies my dog eats her required amount at every feeding\n",
      "Vector: [1, 1, 1, 0, 1, 0, 0, 0, 1, 1, 0, 0, 1, 1, 0, 0, 0, 0, 0, 0, 0, 0, 1, 1, 1, 1, 1, 1, 1, 1, 1, 1, 1, 1, 1, 1, 0, 0, 0, 0, 0, 0, 0, 0, 0, 0, 0, 0, 0, 0, 0, 0, 0, 0, 0, 0, 0, 0, 0, 0, 0, 0, 0, 0, 0, 0, 0, 0, 0, 0, 0, 0, 0, 0, 0, 0, 0, 0]\n",
      "\n",
      "Sentence: great taffy at a great price  there was a wide assortment of yummy taffy  delivery was very quick  if your a taffy lover this is a deal\n",
      "Vector: [1, 1, 1, 1, 1, 1, 0, 0, 0, 1, 1, 0, 0, 0, 1, 0, 0, 0, 0, 0, 0, 0, 0, 0, 0, 0, 0, 0, 0, 0, 0, 0, 0, 0, 0, 0, 1, 1, 1, 1, 1, 1, 1, 1, 1, 1, 1, 0, 0, 0, 0, 0, 0, 0, 0, 0, 0, 0, 0, 0, 0, 0, 0, 0, 0, 0, 0, 0, 0, 0, 0, 0, 0, 0, 0, 0, 0, 0]\n",
      "\n",
      "Sentence: this saltwater taffy had great flavors and was very soft and chewy  each candy was individually wrapped well  none of the candies were stuck together which did happen in the expensive version fralingers  would highly recommend this candy  i served it at a beachthemed party and everyone loved it\n",
      "Vector: [1, 1, 1, 1, 0, 1, 1, 1, 0, 1, 1, 1, 0, 0, 1, 1, 1, 1, 1, 1, 1, 1, 0, 0, 0, 0, 0, 0, 0, 0, 0, 0, 0, 0, 0, 0, 0, 0, 0, 0, 0, 0, 0, 0, 0, 0, 0, 1, 1, 1, 1, 1, 1, 1, 1, 1, 1, 1, 1, 1, 1, 1, 1, 1, 1, 1, 1, 1, 1, 1, 1, 0, 0, 0, 0, 0, 0, 0]\n",
      "\n",
      "Sentence: this taffy is so good  it is very soft and chewy  the flavors are amazing  i would definitely recommend you buying it  very satisfying\n",
      "Vector: [0, 1, 1, 1, 1, 0, 1, 1, 1, 0, 0, 1, 0, 0, 0, 1, 1, 1, 0, 1, 1, 1, 0, 0, 0, 0, 0, 0, 0, 0, 0, 0, 0, 0, 0, 0, 0, 0, 0, 0, 0, 0, 0, 0, 0, 0, 0, 0, 0, 0, 0, 0, 0, 0, 0, 0, 0, 0, 0, 0, 0, 0, 0, 0, 0, 0, 0, 0, 0, 0, 0, 1, 1, 1, 1, 1, 1, 1]\n",
      "\n"
     ]
    }
   ],
   "source": [
    "from collections import Counter\n",
    "\n",
    "# Given list of sentences\n",
    "sentences = [\n",
    "    \"this is a very healthy dog food good for their digestion also good for small puppies my dog eats her required amount at every feeding\",\n",
    "    \"great taffy at a great price  there was a wide assortment of yummy taffy  delivery was very quick  if your a taffy lover this is a deal\",\n",
    "    \"this saltwater taffy had great flavors and was very soft and chewy  each candy was individually wrapped well  none of the candies were stuck together which did happen in the expensive version fralingers  would highly recommend this candy  i served it at a beachthemed party and everyone loved it\",\n",
    "    \"this taffy is so good  it is very soft and chewy  the flavors are amazing  i would definitely recommend you buying it  very satisfying\",\n",
    "]\n",
    "\n",
    "# Step 1: List all unique words\n",
    "all_words = ' '.join(sentences).split()\n",
    "unique_words = list(set(all_words))\n",
    "\n",
    "# Step 2: Create word frequency table\n",
    "word_freq = Counter(all_words)\n",
    "sorted_word_freq = dict(sorted(word_freq.items(), key=lambda item: item[1], reverse=True))\n",
    "\n",
    "# Step 3: Create document vectors\n",
    "document_vectors = []\n",
    "for sentence in sentences:\n",
    "    sentence_words = sentence.split()\n",
    "    document_vector = [1 if word in sentence_words else 0 for word in sorted_word_freq.keys()]\n",
    "    document_vectors.append(document_vector)\n",
    "\n",
    "# Print the results\n",
    "print(\"Step 1: List of Unique Words:\", unique_words)\n",
    "print(\"\\nStep 2: Word Frequency Table:\")\n",
    "print(\"Word\\tFrequency\")\n",
    "for word, freq in sorted_word_freq.items():\n",
    "    print(f\"{word}\\t{freq}\")\n",
    "\n",
    "print(\"\\nStep 3: Document Vectors:\")\n",
    "for sentence, vector in zip(sentences, document_vectors):\n",
    "    print(f\"Sentence: {sentence}\\nVector: {vector}\\n\")"
   ]
  },
  {
   "cell_type": "markdown",
   "id": "7dee0f65",
   "metadata": {},
   "source": [
    "# Term Frequency-Inverse Document Frequency (TF-IDF)"
   ]
  },
  {
   "cell_type": "code",
   "execution_count": 19,
   "id": "bcd0d70f",
   "metadata": {},
   "outputs": [
    {
     "name": "stdout",
     "output_type": "stream",
     "text": [
      "TF-IDF feature shape: (568454, 224192)\n",
      "Vocabulary size: 224192\n"
     ]
    }
   ],
   "source": [
    "# Initialize the TfidfVectorizer\n",
    "tfidf_vectorizer = TfidfVectorizer()\n",
    "\n",
    "# Fit and transform the preprocessed text data\n",
    "tfidf_features = tfidf_vectorizer.fit_transform(df['clean_number'])\n",
    "\n",
    "# Get the vocabulary (unique words)\n",
    "tfidf_vocabulary = tfidf_vectorizer.get_feature_names_out()\n",
    "\n",
    "# Print the shape of the TF-IDF features and the vocabulary size\n",
    "print(\"TF-IDF feature shape:\", tfidf_features.shape)\n",
    "print(\"Vocabulary size:\", len(tfidf_vocabulary))"
   ]
  },
  {
   "cell_type": "code",
   "execution_count": 20,
   "id": "73035693",
   "metadata": {},
   "outputs": [
    {
     "name": "stdout",
     "output_type": "stream",
     "text": [
      "TF Scores:\n",
      "       this     taffy        is        so      good        it      very  \\\n",
      "0  0.041667  0.041667  0.083333  0.041667  0.041667  0.083333  0.083333   \n",
      "1  0.040000  0.000000  0.040000  0.000000  0.080000  0.000000  0.040000   \n",
      "2  0.040816  0.020408  0.000000  0.000000  0.000000  0.040816  0.020408   \n",
      "\n",
      "       soft       and     chewy  ...        in  expensive   version  \\\n",
      "0  0.041667  0.041667  0.041667  ...  0.000000   0.000000  0.000000   \n",
      "1  0.000000  0.000000  0.000000  ...  0.000000   0.000000  0.000000   \n",
      "2  0.020408  0.061224  0.020408  ...  0.020408   0.020408  0.020408   \n",
      "\n",
      "   fralingers    highly    served  beachthemed     party  everyone     loved  \n",
      "0    0.000000  0.000000  0.000000     0.000000  0.000000  0.000000  0.000000  \n",
      "1    0.000000  0.000000  0.000000     0.000000  0.000000  0.000000  0.000000  \n",
      "2    0.020408  0.020408  0.020408     0.020408  0.020408  0.020408  0.020408  \n",
      "\n",
      "[3 rows x 67 columns]\n",
      "\n",
      "IDF Scores:\n",
      "         at       for     every  required      eats      each        of  \\\n",
      "0  0.405465  1.098612  1.098612  1.098612  1.098612  1.098612  1.098612   \n",
      "\n",
      "      chewy  definitely     small  ...      well         i       you  \\\n",
      "0  0.405465    1.098612  1.098612  ...  1.098612  0.405465  1.098612   \n",
      "\n",
      "       were  very    buying   healthy     candy       dog       are  \n",
      "0  1.098612   0.0  1.098612  1.098612  1.098612  1.098612  1.098612  \n",
      "\n",
      "[1 rows x 67 columns]\n",
      "\n",
      "TF-IDF Scores:\n",
      "   this     taffy        is        so      good        it  very      soft  \\\n",
      "0   0.0  0.016894  0.033789  0.045776  0.016894  0.033789   0.0  0.016894   \n",
      "1   0.0  0.000000  0.016219  0.000000  0.032437  0.000000   0.0  0.000000   \n",
      "2   0.0  0.008275  0.000000  0.000000  0.000000  0.016550   0.0  0.008275   \n",
      "\n",
      "        and     chewy  ...        in  expensive   version  fralingers  \\\n",
      "0  0.016894  0.016894  ...  0.000000   0.000000  0.000000    0.000000   \n",
      "1  0.000000  0.000000  ...  0.000000   0.000000  0.000000    0.000000   \n",
      "2  0.024824  0.008275  ...  0.022421   0.022421  0.022421    0.022421   \n",
      "\n",
      "     highly    served  beachthemed     party  everyone     loved  \n",
      "0  0.000000  0.000000     0.000000  0.000000  0.000000  0.000000  \n",
      "1  0.000000  0.000000     0.000000  0.000000  0.000000  0.000000  \n",
      "2  0.022421  0.022421     0.022421  0.022421  0.022421  0.022421  \n",
      "\n",
      "[3 rows x 67 columns]\n"
     ]
    }
   ],
   "source": [
    "import math\n",
    "from collections import Counter\n",
    "\n",
    "def compute_tf(document):\n",
    "    word_count = Counter(document)\n",
    "    tf = {word: count/len(document) for word, count in word_count.items()}\n",
    "    return tf\n",
    "\n",
    "def compute_idf(documents):\n",
    "    N = len(documents)\n",
    "    idf = {}\n",
    "    all_words = set(word for doc in documents for word in doc)\n",
    "    for word in all_words:\n",
    "        count = sum(1 for doc in documents if word in doc)\n",
    "        idf[word] = math.log(N/count)\n",
    "    return idf\n",
    "\n",
    "def compute_tfidf(document, idf):\n",
    "    tfidf = {}\n",
    "    tf = compute_tf(document)\n",
    "    for word, tf_value in tf.items():\n",
    "        tfidf[word] = tf_value * idf[word]\n",
    "    return tfidf\n",
    "\n",
    "# New data\n",
    "data = [\n",
    "    \"this taffy is so good it is very soft and chewy the flavors are amazing i would definitely recommend you buying it very satisfying\",\n",
    "    \"this is a very healthy dog food good for their digestion also good for small puppies my dog eats her required amount at every feeding\",\n",
    "    \"this saltwater taffy had great flavors and was very soft and chewy  each candy was individually wrapped well  none of the candies were stuck together which did happen in the expensive version fralingers  would highly recommend this candy  i served it at a beachthemed party and everyone loved it\"\n",
    "]\n",
    "\n",
    "# Split data into tokens\n",
    "documents = [doc.split() for doc in data]\n",
    "\n",
    "# Compute TF for each document\n",
    "tf_data = [compute_tf(doc) for doc in documents]\n",
    "\n",
    "# Create DataFrame for TF\n",
    "tf_df = pd.DataFrame(tf_data).fillna(0)\n",
    "print(\"TF Scores:\")\n",
    "print(tf_df)\n",
    "\n",
    "# Compute IDF\n",
    "idf = compute_idf(documents)\n",
    "idf_df = pd.DataFrame([idf]).fillna(0)\n",
    "print(\"\\nIDF Scores:\")\n",
    "print(idf_df)\n",
    "\n",
    "# Compute TF-IDF for each document\n",
    "tfidf_data = [compute_tfidf(doc, idf) for doc in documents]\n",
    "\n",
    "# Create DataFrame for TF-IDF\n",
    "tfidf_df = pd.DataFrame(tfidf_data).fillna(0)\n",
    "print(\"\\nTF-IDF Scores:\")\n",
    "print(tfidf_df)"
   ]
  },
  {
   "cell_type": "markdown",
   "id": "095721e1",
   "metadata": {},
   "source": [
    "# Model Selection (Lexicon Approach)"
   ]
  },
  {
   "cell_type": "code",
   "execution_count": 21,
   "id": "7641d8e3",
   "metadata": {},
   "outputs": [],
   "source": [
    "from textblob import TextBlob\n",
    "from vaderSentiment.vaderSentiment import SentimentIntensityAnalyzer\n",
    "from tabulate import tabulate\n",
    "from nltk.sentiment import SentimentIntensityAnalyzer\n",
    "from sklearn.model_selection import train_test_split\n",
    "from sklearn.feature_extraction.text import TfidfVectorizer\n",
    "from sklearn.naive_bayes import MultinomialNB\n",
    "from sklearn.svm import LinearSVC\n",
    "from sklearn.metrics import accuracy_score, classification_report"
   ]
  },
  {
   "cell_type": "markdown",
   "id": "bda6ffa3",
   "metadata": {},
   "source": [
    "# 1. Lexicon-based approach using NLTK's VADER:"
   ]
  },
  {
   "cell_type": "code",
   "execution_count": 22,
   "id": "b2857912",
   "metadata": {},
   "outputs": [
    {
     "name": "stderr",
     "output_type": "stream",
     "text": [
      "[nltk_data] Downloading package vader_lexicon to\n",
      "[nltk_data]     C:\\Users\\Marsya\\AppData\\Roaming\\nltk_data...\n"
     ]
    },
    {
     "name": "stdout",
     "output_type": "stream",
     "text": [
      "Lexicon-based Approach Accuracy: 0.7990796089041505\n"
     ]
    }
   ],
   "source": [
    "# Download the VADER lexicon\n",
    "nltk.download('vader_lexicon')\n",
    "\n",
    "# Assign sentiment labels based on the 'Score' column\n",
    "def assign_sentiment(score):\n",
    "    if score >= 4:\n",
    "        return 'Positive'\n",
    "    elif score <= 2:\n",
    "        return 'Negative'\n",
    "    else:\n",
    "        return 'Neutral'\n",
    "\n",
    "df['Sentiment'] = df['Score'].apply(assign_sentiment)\n",
    "\n",
    "# Initialize the sentiment analyzer\n",
    "sid = SentimentIntensityAnalyzer()\n",
    "\n",
    "# Calculate sentiment scores for each review\n",
    "df['Lexicon_Sentiment'] = df['clean_number'].apply(lambda x: sid.polarity_scores(x)['compound'])\n",
    "\n",
    "# Map sentiment scores to labels\n",
    "df['Lexicon_Sentiment_Label'] = df['Lexicon_Sentiment'].apply(lambda x: 'Positive' if x > 0 else ('Negative' if x < 0 else 'Neutral'))\n",
    "\n",
    "# Evaluate the lexicon-based approach\n",
    "lexicon_accuracy = accuracy_score(df['Sentiment'], df['Lexicon_Sentiment_Label'])\n",
    "print(\"Lexicon-based Approach Accuracy:\", lexicon_accuracy)"
   ]
  },
  {
   "cell_type": "code",
   "execution_count": 23,
   "id": "860d12a3",
   "metadata": {},
   "outputs": [],
   "source": [
    "data = [\n",
    "    (\"good flavor these came securely packed they were fresh and delicious i love these twizzlers\", 'positive'),\n",
    "    (\"this is the same stuff you can buy at the big box stores there is nothing healthy about it it is just carbs and sugars save your money and get something that at least has some taste\", 'negative'),\n",
    "    (\"the flavors are good however i do not see any differce between this and oaker oats brand they are both mushy\", 'neutral'),\n",
    "    (\"the strawberry twizzlers are my guilty pleasure yummy six pounds will be around for a while with my son and i\", 'positive'),\n",
    "    (\"this oatmeal is not good its mushy soft i don t like it quaker oats is the way to go\", 'negative'),\n",
    "    (\"halloween is over but i sent a bag to my daughters class for her share the chocolate was fresh and enjoyed by many\", 'neutral'),\n",
    "    (\"my daughter loves twizzlers and this shipment of six pounds really hit the spot it s exactly what you would expect six packages of strawberry twizzlers\", 'positive'),\n",
    "    (\"arrived in days and were so stale i could not eat any of the bags\", 'negative'),\n",
    "    (\"this bag of candy online is pretty expensive it should be cheaper in order to compete with grocery stores other than that its a good combination of my favorite candy\", 'neutral'),\n",
    "    (\"i love eating them and they are good for watching tv and looking at movies it is not too sweet i like to transfer them to a zip lock baggie so they stay fresh so i can take my time eating them\", 'positive'),\n",
    "    (\"no tea flavor at all just whole brunch of artifial flavors it is not returnable i wasted bucks\", 'negative'),\n",
    "    (\"this stuff really works for preventing cramping during the middle to latter stages of your rides pop into each water bottle and you re set flavor is fine and goes down easy\", 'neutral'),\n",
    "    (\"i fed this to my golden retriever and he hated it he wouldn t eat it and when he did it gave him terrible diarrhea we will not be buying this again it s also super expensive\", 'negative'),\n",
    "    (\"i am very satisfied with my twizzler purchase i shared these with others and we have all enjoyed them i will definitely be ordering more\", 'positive'),\n",
    "    (\"it is okay i would not go out of my way to buy it again\", 'neutral'),\n",
    "    (\"candy was delivered very fast and was purchased at a reasonable price i was home bound and unable to get to a store so this was perfect for me\", 'positive'),\n",
    "    (\"not what i was expecting in terms of the company s reputation for excellent home delivery products\", 'negative'),\n",
    "    (\"this is the same food we get at pet store but it s delivered to my door and for the same price or slightly less \", 'neutral'),\n",
    "    (\"i can remember buying this candy as a kid and the quality hasn t dropped in all these years still a superb product you won t be disappointed with\", 'positive'),\n",
    "    (\"i was disappointed in the flavor and texture of this mix i usually like most of the low carb things i have tried but was diappointed in this specific one \", 'negative'),\n",
    "    (\"i ve been eating ramen noodles since i was a little kid and i ve never found a better flavor than hot spicy chicken it isn t hot at all to a chilihead like me but it sure is good\", 'neutral'),\n",
    "    (\"this was sooooo deliscious but too bad i ate em too fast and gained pds my fault\", 'positive'),\n",
    "    (\"besides being smaller than runts they look the same and have the same consistency unfortunately they taste nothing like banana runts nor do they even taste good yucky stuff trying to return with vendor\", 'negative'),\n",
    "    (\"the item over all was fine but the banana heads are not just like banana runts they are alot smaller also when i received the item the packaging was not great the banana heads had come open during shipping and were all over the packing envelope\", 'neutral'),\n",
    "]\n"
   ]
  },
  {
   "cell_type": "code",
   "execution_count": 24,
   "id": "339218e7",
   "metadata": {},
   "outputs": [],
   "source": [
    "table_data = [[\"Text\", \"Actual Label\", \"TextBlob Polarity\", \"TextBlob Sentiment\", \"VADER Compound\", \"VADER Sentiment\"]]"
   ]
  },
  {
   "cell_type": "code",
   "execution_count": 25,
   "id": "09a77b3e",
   "metadata": {},
   "outputs": [],
   "source": [
    "for text, actual_label in data:\n",
    "    # TextBlob\n",
    "    blob = TextBlob(text)\n",
    "    tb_polarity = blob.sentiment.polarity\n",
    "    \n",
    "    # Determine label based on polarity score from TextBlob\n",
    "    if tb_polarity > 0:\n",
    "        tb_label = 'positive'\n",
    "    elif tb_polarity < 0:\n",
    "        tb_label = 'negative'\n",
    "    else:\n",
    "        tb_label = 'neutral'\n",
    "\n",
    "    # VADER\n",
    "    analyzer = SentimentIntensityAnalyzer()\n",
    "    vs = analyzer.polarity_scores(text)\n",
    "    vader_compound = vs['compound']\n",
    "\n",
    "    # Determine label based on compound score from VADER\n",
    "    if vader_compound > 0.05:\n",
    "        vader_label = 'positive'\n",
    "    elif vader_compound < -0.05:\n",
    "        vader_label = 'negative'\n",
    "    else:\n",
    "        vader_label = 'neutral'\n",
    "\n",
    "    table_data.append([text, actual_label, tb_polarity, tb_label, vader_compound, vader_label])"
   ]
  },
  {
   "cell_type": "code",
   "execution_count": 26,
   "id": "f08744a3",
   "metadata": {},
   "outputs": [
    {
     "name": "stdout",
     "output_type": "stream",
     "text": [
      "Text                                                                                                                                                                                                                                                  Actual Label      TextBlob Polarity  TextBlob Sentiment      VADER Compound  VADER Sentiment\n",
      "good flavor these came securely packed they were fresh and delicious i love these twizzlers                                                                                                                                                           positive                 0.58        positive                        0.9382  positive\n",
      "this is the same stuff you can buy at the big box stores there is nothing healthy about it it is just carbs and sugars save your money and get something that at least has some taste                                                                 negative                 0.05        positive                        0.2363  positive\n",
      "the flavors are good however i do not see any differce between this and oaker oats brand they are both mushy                                                                                                                                          neutral                  0.7         positive                        0.4404  positive\n",
      "the strawberry twizzlers are my guilty pleasure yummy six pounds will be around for a while with my son and i                                                                                                                                         positive                -0.5         negative                        0.6486  positive\n",
      "this oatmeal is not good its mushy soft i don t like it quaker oats is the way to go                                                                                                                                                                  negative                -0.125       negative                        0.0243  neutral\n",
      "halloween is over but i sent a bag to my daughters class for her share the chocolate was fresh and enjoyed by many                                                                                                                                    neutral                  0.433333    positive                        0.8807  positive\n",
      "my daughter loves twizzlers and this shipment of six pounds really hit the spot it s exactly what you would expect six packages of strawberry twizzlers                                                                                               positive                 0.225       positive                        0.5719  positive\n",
      "arrived in days and were so stale i could not eat any of the bags                                                                                                                                                                                     negative                -0.5         negative                        0       neutral\n",
      "this bag of candy online is pretty expensive it should be cheaper in order to compete with grocery stores other than that its a good combination of my favorite candy                                                                                 neutral                  0.165       positive                        0.8442  positive\n",
      "i love eating them and they are good for watching tv and looking at movies it is not too sweet i like to transfer them to a zip lock baggie so they stay fresh so i can take my time eating them                                                      positive                 0.4625      positive                        0.7247  positive\n",
      "no tea flavor at all just whole brunch of artifial flavors it is not returnable i wasted bucks                                                                                                                                                        negative                 0           neutral                         0.1098  positive\n",
      "this stuff really works for preventing cramping during the middle to latter stages of your rides pop into each water bottle and you re set flavor is fine and goes down easy                                                                          neutral                  0.149074    positive                        0.5165  positive\n",
      "i fed this to my golden retriever and he hated it he wouldn t eat it and when he did it gave him terrible diarrhea we will not be buying this again it s also super expensive                                                                         negative                -0.353333    negative                       -0.5267  negative\n",
      "i am very satisfied with my twizzler purchase i shared these with others and we have all enjoyed them i will definitely be ordering more                                                                                                              positive                 0.4125      positive                        0.8883  positive\n",
      "it is okay i would not go out of my way to buy it again                                                                                                                                                                                               neutral                  0.5         positive                        0.2263  positive\n",
      "candy was delivered very fast and was purchased at a reasonable price i was home bound and unable to get to a store so this was perfect for me                                                                                                        positive                 0.24        positive                        0.6077  positive\n",
      "not what i was expecting in terms of the company s reputation for excellent home delivery products                                                                                                                                                    negative                 1           positive                        0.5719  positive\n",
      "this is the same food we get at pet store but it s delivered to my door and for the same price or slightly less                                                                                                                                       neutral                 -0.0555556   negative                        0       neutral\n",
      "i can remember buying this candy as a kid and the quality hasn t dropped in all these years still a superb product you won t be disappointed with                                                                                                     positive                 0.125       positive                        0.6908  positive\n",
      "i was disappointed in the flavor and texture of this mix i usually like most of the low carb things i have tried but was diappointed in this specific one                                                                                             negative                -0.1         negative                       -0.2457  negative\n",
      "i ve been eating ramen noodles since i was a little kid and i ve never found a better flavor than hot spicy chicken it isn t hot at all to a chilihead like me but it sure is good                                                                    neutral                  0.201786    positive                        0.7812  positive\n",
      "this was sooooo deliscious but too bad i ate em too fast and gained pds my fault                                                                                                                                                                      positive                -0.25        negative                       -0.7096  negative\n",
      "besides being smaller than runts they look the same and have the same consistency unfortunately they taste nothing like banana runts nor do they even taste good yucky stuff trying to return with vendor                                             negative                 0.04        positive                       -0.5283  negative\n",
      "the item over all was fine but the banana heads are not just like banana runts they are alot smaller also when i received the item the packaging was not great the banana heads had come open during shipping and were all over the packing envelope  neutral                  0.00416667  positive                       -0.7721  negative\n"
     ]
    }
   ],
   "source": [
    "print(tabulate(table_data, headers=\"firstrow\", tablefmt=\"plain\"))"
   ]
  },
  {
   "cell_type": "code",
   "execution_count": 27,
   "id": "cf8da15c",
   "metadata": {},
   "outputs": [
    {
     "name": "stdout",
     "output_type": "stream",
     "text": [
      "Text                                                                                                                                                                                                                                                  Actual Label      TextBlob Polarity  TextBlob Sentiment      VADER Compound  VADER Sentiment\n",
      "good flavor these came securely packed they were fresh and delicious i love these twizzlers                                                                                                                                                           positive                 0.58        positive                        0.9382  positive\n",
      "this is the same stuff you can buy at the big box stores there is nothing healthy about it it is just carbs and sugars save your money and get something that at least has some taste                                                                 negative                 0.05        positive                        0.2363  positive\n",
      "the flavors are good however i do not see any differce between this and oaker oats brand they are both mushy                                                                                                                                          neutral                  0.7         positive                        0.4404  positive\n",
      "the strawberry twizzlers are my guilty pleasure yummy six pounds will be around for a while with my son and i                                                                                                                                         positive                -0.5         negative                        0.6486  positive\n",
      "this oatmeal is not good its mushy soft i don t like it quaker oats is the way to go                                                                                                                                                                  negative                -0.125       negative                        0.0243  neutral\n",
      "halloween is over but i sent a bag to my daughters class for her share the chocolate was fresh and enjoyed by many                                                                                                                                    neutral                  0.433333    positive                        0.8807  positive\n",
      "my daughter loves twizzlers and this shipment of six pounds really hit the spot it s exactly what you would expect six packages of strawberry twizzlers                                                                                               positive                 0.225       positive                        0.5719  positive\n",
      "arrived in days and were so stale i could not eat any of the bags                                                                                                                                                                                     negative                -0.5         negative                        0       neutral\n",
      "this bag of candy online is pretty expensive it should be cheaper in order to compete with grocery stores other than that its a good combination of my favorite candy                                                                                 neutral                  0.165       positive                        0.8442  positive\n",
      "i love eating them and they are good for watching tv and looking at movies it is not too sweet i like to transfer them to a zip lock baggie so they stay fresh so i can take my time eating them                                                      positive                 0.4625      positive                        0.8652  positive\n",
      "no tea flavor at all just whole brunch of artifial flavors it is not returnable i wasted bucks                                                                                                                                                        negative                 0           neutral                         0.1098  positive\n",
      "this stuff really works for preventing cramping during the middle to latter stages of your rides pop into each water bottle and you re set flavor is fine and goes down easy                                                                          neutral                  0.149074    positive                        0.5165  positive\n",
      "i fed this to my golden retriever and he hated it he wouldn t eat it and when he did it gave him terrible diarrhea we will not be buying this again it s also super expensive                                                                         negative                -0.353333    negative                       -0.5267  negative\n",
      "i am very satisfied with my twizzler purchase i shared these with others and we have all enjoyed them i will definitely be ordering more                                                                                                              positive                 0.4125      positive                        0.8883  positive\n",
      "it is okay i would not go out of my way to buy it again                                                                                                                                                                                               neutral                  0.5         positive                        0.2263  positive\n",
      "candy was delivered very fast and was purchased at a reasonable price i was home bound and unable to get to a store so this was perfect for me                                                                                                        positive                 0.24        positive                        0.6077  positive\n",
      "not what i was expecting in terms of the company s reputation for excellent home delivery products                                                                                                                                                    negative                 1           positive                        0.5719  positive\n",
      "this is the same food we get at pet store but it s delivered to my door and for the same price or slightly less                                                                                                                                       neutral                 -0.0555556   negative                        0       neutral\n",
      "i can remember buying this candy as a kid and the quality hasn t dropped in all these years still a superb product you won t be disappointed with                                                                                                     positive                 0.125       positive                        0.6908  positive\n",
      "i was disappointed in the flavor and texture of this mix i usually like most of the low carb things i have tried but was diappointed in this specific one                                                                                             negative                -0.1         negative                       -0.2457  negative\n",
      "i ve been eating ramen noodles since i was a little kid and i ve never found a better flavor than hot spicy chicken it isn t hot at all to a chilihead like me but it sure is good                                                                    neutral                  0.201786    positive                        0.7812  positive\n",
      "this was sooooo deliscious but too bad i ate em too fast and gained pds my fault                                                                                                                                                                      positive                -0.25        negative                       -0.7096  negative\n",
      "besides being smaller than runts they look the same and have the same consistency unfortunately they taste nothing like banana runts nor do they even taste good yucky stuff trying to return with vendor                                             negative                 0.04        positive                       -0.5283  negative\n",
      "the item over all was fine but the banana heads are not just like banana runts they are alot smaller also when i received the item the packaging was not great the banana heads had come open during shipping and were all over the packing envelope  neutral                  0.00416667  positive                       -0.7721  negative\n",
      "\n",
      "Classification Report for TextBlob:\n",
      "              precision    recall  f1-score   support\n",
      "\n",
      "    negative       0.57      0.50      0.53         8\n",
      "     neutral       0.00      0.00      0.00         8\n",
      "    positive       0.38      0.75      0.50         8\n",
      "\n",
      "    accuracy                           0.42        24\n",
      "   macro avg       0.32      0.42      0.34        24\n",
      "weighted avg       0.32      0.42      0.34        24\n",
      "\n",
      "\n",
      "Classification Report for VADER:\n",
      "              precision    recall  f1-score   support\n",
      "\n",
      "    negative       0.60      0.38      0.46         8\n",
      "     neutral       0.33      0.12      0.18         8\n",
      "    positive       0.44      0.88      0.58         8\n",
      "\n",
      "    accuracy                           0.46        24\n",
      "   macro avg       0.46      0.46      0.41        24\n",
      "weighted avg       0.46      0.46      0.41        24\n",
      "\n"
     ]
    }
   ],
   "source": [
    "from textblob import TextBlob\n",
    "from vaderSentiment.vaderSentiment import SentimentIntensityAnalyzer\n",
    "from sklearn.metrics import classification_report\n",
    "from tabulate import tabulate\n",
    "\n",
    "data = [\n",
    "    (\"good flavor these came securely packed they were fresh and delicious i love these twizzlers\", 'positive'),\n",
    "    (\"this is the same stuff you can buy at the big box stores there is nothing healthy about it it is just carbs and sugars save your money and get something that at least has some taste\", 'negative'),\n",
    "    (\"the flavors are good however i do not see any differce between this and oaker oats brand they are both mushy\", 'neutral'),\n",
    "    (\"the strawberry twizzlers are my guilty pleasure yummy six pounds will be around for a while with my son and i\", 'positive'),\n",
    "    (\"this oatmeal is not good its mushy soft i don t like it quaker oats is the way to go\", 'negative'),\n",
    "    (\"halloween is over but i sent a bag to my daughters class for her share the chocolate was fresh and enjoyed by many\", 'neutral'),\n",
    "    (\"my daughter loves twizzlers and this shipment of six pounds really hit the spot it s exactly what you would expect six packages of strawberry twizzlers\", 'positive'),\n",
    "    (\"arrived in days and were so stale i could not eat any of the bags\", 'negative'),\n",
    "    (\"this bag of candy online is pretty expensive it should be cheaper in order to compete with grocery stores other than that its a good combination of my favorite candy\", 'neutral'),\n",
    "    (\"i love eating them and they are good for watching tv and looking at movies it is not too sweet i like to transfer them to a zip lock baggie so they stay fresh so i can take my time eating them\", 'positive'),\n",
    "    (\"no tea flavor at all just whole brunch of artifial flavors it is not returnable i wasted bucks\", 'negative'),\n",
    "    (\"this stuff really works for preventing cramping during the middle to latter stages of your rides pop into each water bottle and you re set flavor is fine and goes down easy\", 'neutral'),\n",
    "    (\"i fed this to my golden retriever and he hated it he wouldn t eat it and when he did it gave him terrible diarrhea we will not be buying this again it s also super expensive\", 'negative'),\n",
    "    (\"i am very satisfied with my twizzler purchase i shared these with others and we have all enjoyed them i will definitely be ordering more\", 'positive'),\n",
    "    (\"it is okay i would not go out of my way to buy it again\", 'neutral'),\n",
    "    (\"candy was delivered very fast and was purchased at a reasonable price i was home bound and unable to get to a store so this was perfect for me\", 'positive'),\n",
    "    (\"not what i was expecting in terms of the company s reputation for excellent home delivery products\", 'negative'),\n",
    "    (\"this is the same food we get at pet store but it s delivered to my door and for the same price or slightly less \", 'neutral'),\n",
    "    (\"i can remember buying this candy as a kid and the quality hasn t dropped in all these years still a superb product you won t be disappointed with\", 'positive'),\n",
    "    (\"i was disappointed in the flavor and texture of this mix i usually like most of the low carb things i have tried but was diappointed in this specific one \", 'negative'),\n",
    "    (\"i ve been eating ramen noodles since i was a little kid and i ve never found a better flavor than hot spicy chicken it isn t hot at all to a chilihead like me but it sure is good\", 'neutral'),\n",
    "    (\"this was sooooo deliscious but too bad i ate em too fast and gained pds my fault\", 'positive'),\n",
    "    (\"besides being smaller than runts they look the same and have the same consistency unfortunately they taste nothing like banana runts nor do they even taste good yucky stuff trying to return with vendor\", 'negative'),\n",
    "    (\"the item over all was fine but the banana heads are not just like banana runts they are alot smaller also when i received the item the packaging was not great the banana heads had come open during shipping and were all over the packing envelope\", 'neutral'),\n",
    "]\n",
    "\n",
    "\n",
    "# Initialize an empty list to store the data in tabular format\n",
    "table_data = [[\"Text\", \"Actual Label\", \"TextBlob Polarity\", \"TextBlob Sentiment\", \"VADER Compound\", \"VADER Sentiment\"]]\n",
    "\n",
    "# Lexicon-based approach using TextBlob and VADER\n",
    "for text, actual_label in data:\n",
    "    # TextBlob\n",
    "    blob = TextBlob(text)\n",
    "    tb_polarity = blob.sentiment.polarity\n",
    "    \n",
    "    # Determine label based on polarity score from TextBlob\n",
    "    if tb_polarity > 0:\n",
    "        tb_label = 'positive'\n",
    "    elif tb_polarity < 0:\n",
    "        tb_label = 'negative'\n",
    "    else:\n",
    "        tb_label = 'neutral'\n",
    "\n",
    "    # VADER\n",
    "    analyzer = SentimentIntensityAnalyzer()\n",
    "    vs = analyzer.polarity_scores(text)\n",
    "    vader_compound = vs['compound']\n",
    "   \n",
    "    # Determine label based on compound score from VADER\n",
    "    if vader_compound > 0.05:\n",
    "        vader_label = 'positive'\n",
    "    elif vader_compound < -0.05:\n",
    "        vader_label = 'negative'\n",
    "    else:\n",
    "        vader_label = 'neutral'\n",
    "\n",
    "    table_data.append([text, actual_label, tb_polarity, tb_label, vader_compound, vader_label])\n",
    "\n",
    "print(tabulate(table_data, headers=\"firstrow\", tablefmt=\"plain\"))\n",
    "\n",
    "# Calculate classification report for TextBlob\n",
    "tb_actual_labels = [label for _, label, _, _, _, _ in table_data[1:]]\n",
    "tb_predicted_labels = [tb_label for _, _, _, tb_label, _, _ in table_data[1:]]\n",
    "tb_classification_report = classification_report(tb_actual_labels, tb_predicted_labels, target_names=['negative', 'neutral', 'positive'])\n",
    "\n",
    "# Calculate classification report for VADER\n",
    "vader_actual_labels = [label for _, label, _, _, _, _ in table_data[1:]]\n",
    "vader_predicted_labels = [vader_label for _, _, _, _, _, vader_label in table_data[1:]]\n",
    "vader_classification_report = classification_report(vader_actual_labels, vader_predicted_labels, target_names=['negative', 'neutral', 'positive'])\n",
    "\n",
    "# Print classification report for TextBlob\n",
    "print(\"\\nClassification Report for TextBlob:\")\n",
    "print(tb_classification_report)\n",
    "\n",
    "# Print classification report for VADER\n",
    "print(\"\\nClassification Report for VADER:\")\n",
    "print(vader_classification_report)"
   ]
  },
  {
   "cell_type": "markdown",
   "id": "c8611903",
   "metadata": {},
   "source": [
    "# Model Selection (Machine Learning Approach)"
   ]
  },
  {
   "cell_type": "code",
   "execution_count": 28,
   "id": "970b9758",
   "metadata": {},
   "outputs": [],
   "source": [
    "from sklearn.model_selection import train_test_split\n",
    "from sklearn.feature_extraction.text import CountVectorizer\n",
    "from sklearn.naive_bayes import MultinomialNB\n",
    "from sklearn.svm import SVC\n",
    "from sklearn.metrics import classification_report"
   ]
  },
  {
   "cell_type": "code",
   "execution_count": 29,
   "id": "099fb58c",
   "metadata": {},
   "outputs": [
    {
     "name": "stdout",
     "output_type": "stream",
     "text": [
      "Naive Bayes Accuracy: 0.7917337344204907\n",
      "              precision    recall  f1-score   support\n",
      "\n",
      "    Negative       0.95      0.06      0.12     16181\n",
      "     Neutral       0.41      0.00      0.00      8485\n",
      "    Positive       0.79      1.00      0.88     89025\n",
      "\n",
      "    accuracy                           0.79    113691\n",
      "   macro avg       0.72      0.35      0.33    113691\n",
      "weighted avg       0.78      0.79      0.71    113691\n",
      "\n",
      "SVM Accuracy: 0.8923661503549094\n",
      "              precision    recall  f1-score   support\n",
      "\n",
      "    Negative       0.78      0.76      0.77     16181\n",
      "     Neutral       0.68      0.31      0.42      8485\n",
      "    Positive       0.92      0.97      0.95     89025\n",
      "\n",
      "    accuracy                           0.89    113691\n",
      "   macro avg       0.79      0.68      0.71    113691\n",
      "weighted avg       0.88      0.89      0.88    113691\n",
      "\n"
     ]
    }
   ],
   "source": [
    "# Split the data into training and testing sets\n",
    "X_train, X_test, y_train, y_test = train_test_split(df['clean_number'], df['Sentiment'], test_size=0.2, random_state=42)\n",
    "\n",
    "# Create a TF-IDF vectorizer\n",
    "tfidf = TfidfVectorizer()\n",
    "\n",
    "# Fit and transform the training data\n",
    "X_train_tfidf = tfidf.fit_transform(X_train)\n",
    "\n",
    "# Transform the testing data\n",
    "X_test_tfidf = tfidf.transform(X_test)\n",
    "\n",
    "# Train and evaluate Naive Bayes classifier\n",
    "nb_classifier = MultinomialNB()\n",
    "nb_classifier.fit(X_train_tfidf, y_train)\n",
    "nb_predictions = nb_classifier.predict(X_test_tfidf)\n",
    "nb_accuracy = accuracy_score(y_test, nb_predictions)\n",
    "print(\"Naive Bayes Accuracy:\", nb_accuracy)\n",
    "print(classification_report(y_test, nb_predictions))\n",
    "\n",
    "# Train and evaluate SVM classifier\n",
    "svm_classifier = LinearSVC()\n",
    "svm_classifier.fit(X_train_tfidf, y_train)\n",
    "svm_predictions = svm_classifier.predict(X_test_tfidf)\n",
    "svm_accuracy = accuracy_score(y_test, svm_predictions)\n",
    "print(\"SVM Accuracy:\", svm_accuracy)\n",
    "print(classification_report(y_test, svm_predictions))"
   ]
  },
  {
   "cell_type": "markdown",
   "id": "385be8ff",
   "metadata": {},
   "source": [
    "## Discussion "
   ]
  },
  {
   "cell_type": "markdown",
   "id": "3a7fc3b0",
   "metadata": {},
   "source": [
    "In this section, we will be discussing about the strengths and weaknesses of the selected models for sentiment classification using the dataset about reviews of fine foods from Amazon.\n",
    "\n",
    "- Lexicon-Based Approach Accuracy: 0.7990796089041505\n",
    "- Naive Bayes Accuracy: 0.7917337344204907\n",
    "- SVM Accuracy:  0.8923661503549094\n",
    "\n",
    "1. Lexicon-Based Approach (VADER)\n",
    "\n",
    "  STRENGTHS\n",
    "  - This approach boasts a high accuracy indicating LBA is effective in classifying sentiment based on predefined word lists.\n",
    "  - It is also easy to understand and implement by simply identifying which words contribute to the respective sentiments and performs well for basic sentiment analysis tasks.\n",
    "  - VADER provides a compound score indicating the sentiment intensity, providing a more refined understanding of the expressed sentiments.\n",
    "\n",
    "  WEAKNESSES\n",
    "  - Vader can handle some informal language but it might struggle with complex sentence structures, sarcasm or heavily context-dependent sentiment.\n",
    "  - Vader relies solely on word presence where it might miss the impact of word order, negation or irony on sentiment. \n",
    "  - The effectiveness of Vader depends on the text domain where it might not be as accurate for formal writing ot technical writing.\n",
    "\n",
    "2. ML-Based Approach (Naive Bayes)\n",
    "\n",
    "  STRENGTHS\n",
    "  - It is one of the simple algoritm to understand and implement. Training this type of model is computationally efficient which is ideal for tasks where fast training on large datasets is crucial.\n",
    "  - It scales will with increasing data sized as the model can efficiently retrain wihtout significant performance degradation.\n",
    "  - It can handle both continuous and discrete data types effectively which is useful for sentiment analysis.\n",
    "\n",
    "  WEAKNESSES\n",
    "  - It records the lowest accuracy compared to LBA and SVM classifier in this model.\n",
    "  - The performance of Naive Bayes can highly depend on feature selection and preprocessing. Choosing the right features and appropriate data preparation can impact its accuracy.\n",
    "  - It might struggle to accurately identify the less frequent class depending on the data.\n",
    "\n",
    "2. ML-Based Approach (SVM classifier)\n",
    "\n",
    "  STRENGTHS\n",
    "  - The SVM classifier demonstrates the highest accuracy among the models, proving its ability to handle complex relationship between features. This allows them to learn intricate patterns in the data which leads to more precise classifications.\n",
    "  - SVMs can utilize kernel functions to map data into higher dimension and handle non-linear relationships between features which is valuable for sentiment analysis. \n",
    "  - SVMs can learn decision boundaties are more robust to noise and outliers in the data by maximizing margin which is increasing the confidence level of the classification.\n",
    "\n",
    "WEAKNESSES\n",
    "- SVMs can overfit the training data that can lead to poor performance on unseen data. \n",
    "- It is more difficult to understand and interpret compared to other models.\n",
    "- It consumes more training time as the it deals with large datasets or complex kernel functions which is not ideal for real-time applications."
   ]
  }
 ],
 "metadata": {
  "kernelspec": {
   "display_name": "Python 3 (ipykernel)",
   "language": "python",
   "name": "python3"
  },
  "language_info": {
   "codemirror_mode": {
    "name": "ipython",
    "version": 3
   },
   "file_extension": ".py",
   "mimetype": "text/x-python",
   "name": "python",
   "nbconvert_exporter": "python",
   "pygments_lexer": "ipython3",
   "version": "3.11.5"
  }
 },
 "nbformat": 4,
 "nbformat_minor": 5
}
